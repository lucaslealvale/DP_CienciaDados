{
 "cells": [
  {
   "cell_type": "markdown",
   "metadata": {},
   "source": [
    "___\n",
    "# Ciência dos Dados - PROJETO 1"
   ]
  },
  {
   "cell_type": "markdown",
   "metadata": {},
   "source": [
    "## Lucas Leal Vale\n",
    "___"
   ]
  },
  {
   "cell_type": "markdown",
   "metadata": {},
   "source": [
    "## Educação X Trabalho infantil"
   ]
  },
  {
   "cell_type": "markdown",
   "metadata": {},
   "source": [
    "___\n",
    "## Introdução\n",
    "\n",
    "Neste projeto foi analisado como a taxa de trabalho infantil se comportou entre os anos de 2011-2015, com o auxilio de suas respectivas PNADs. Com a finalidade de indicar a segregação social, a falta de compromisso do nosso governo para com as nossas crianças e adificuldade ao acesso de uma educação basica digna.\n",
    "Para tanto foram analisados os seguintes aspectos:\n",
    "Em respeito às faixas de renda analisadas, procurei dividi-las próximas ao valor do salário mínimo atual per capita, ou seja, salários de até mil reais por pessoa na moradia.\n",
    "Com essa pesquisa pretendo responder a pergunta:Como se comportou a taxa de criancas e adolescentes fora da escola devido ao trabalho infantil entre 2011-2015.\n"
   ]
  },
  {
   "cell_type": "markdown",
   "metadata": {},
   "source": [
    "___\n",
    "## Filtros da base de dados"
   ]
  },
  {
   "cell_type": "code",
   "execution_count": 1,
   "metadata": {
    "collapsed": true
   },
   "outputs": [],
   "source": [
    "%matplotlib inline\n",
    "import pandas as pd\n",
    "import matplotlib.pyplot as plt\n",
    "import numpy as np\n",
    "import os"
   ]
  },
  {
   "cell_type": "code",
   "execution_count": 2,
   "metadata": {},
   "outputs": [
    {
     "name": "stdout",
     "output_type": "stream",
     "text": [
      "Esperamos trabalhar no diretório\n",
      "C:\\Users\\Lucas\\Downloads\\Insper\n"
     ]
    }
   ],
   "source": [
    "print('Esperamos trabalhar no diretório')\n",
    "print(os.getcwd())"
   ]
  },
  {
   "cell_type": "code",
   "execution_count": 3,
   "metadata": {
    "collapsed": true
   },
   "outputs": [],
   "source": [
    "#Se usar o arquivo descompactado\n",
    "#pd.read_csv('PES2015.csv',sep=',')\n",
    "\n",
    "#Se usar o arquivo compactado como está no dropbox púbico\n",
    "dados=pd.read_csv('PES2015csv.zip', compression='zip', header=0, sep=',', quotechar='\"')"
   ]
  },
  {
   "cell_type": "code",
   "execution_count": 22,
   "metadata": {},
   "outputs": [
    {
     "data": {
      "text/plain": [
       "['Frequenta escola ou creche',\n",
       " 'Teve algum trabalho no período de referência de 365 dias']"
      ]
     },
     "execution_count": 22,
     "metadata": {},
     "output_type": "execute_result"
    }
   ],
   "source": [
    "# Renomeando as variáveis\n",
    "df=pd.DataFrame({'Teve algum trabalho no período de referência de 365 dias':dados.V0701,'Frequenta escola ou creche':dados.V0602})#,'Trabalho Rural':dados.V0702,'Trabalho em construcacao':dados.V0703,\"trabalhu essa semana\":dados.V0704})\n",
    "\n",
    "# Filtrando o DataFrame\n",
    "df=df.dropna()\n",
    "list(df)"
   ]
  },
  {
   "cell_type": "code",
   "execution_count": 23,
   "metadata": {
    "collapsed": true
   },
   "outputs": [],
   "source": [
    "#Salvando o DataFrame\n",
    "df.to_csv('variaveis1.csv')\n",
    "#df15.to_csv('variaveis2.csv')"
   ]
  },
  {
   "cell_type": "code",
   "execution_count": null,
   "metadata": {},
   "outputs": [],
   "source": []
  },
  {
   "cell_type": "code",
   "execution_count": 25,
   "metadata": {},
   "outputs": [
    {
     "data": {
      "text/html": [
       "<div>\n",
       "<style>\n",
       "    .dataframe thead tr:only-child th {\n",
       "        text-align: right;\n",
       "    }\n",
       "\n",
       "    .dataframe thead th {\n",
       "        text-align: left;\n",
       "    }\n",
       "\n",
       "    .dataframe tbody tr th {\n",
       "        vertical-align: top;\n",
       "    }\n",
       "</style>\n",
       "<table border=\"1\" class=\"dataframe\">\n",
       "  <thead>\n",
       "    <tr style=\"text-align: right;\">\n",
       "      <th></th>\n",
       "      <th>Frequenta escola ou creche</th>\n",
       "      <th>Teve algum trabalho no período de referência de 365 dias</th>\n",
       "    </tr>\n",
       "  </thead>\n",
       "  <tbody>\n",
       "    <tr>\n",
       "      <th>5</th>\n",
       "      <td>Sim</td>\n",
       "      <td>Não</td>\n",
       "    </tr>\n",
       "    <tr>\n",
       "      <th>51</th>\n",
       "      <td>Sim</td>\n",
       "      <td>Não</td>\n",
       "    </tr>\n",
       "    <tr>\n",
       "      <th>64</th>\n",
       "      <td>Sim</td>\n",
       "      <td>Não</td>\n",
       "    </tr>\n",
       "    <tr>\n",
       "      <th>69</th>\n",
       "      <td>Sim</td>\n",
       "      <td>Não</td>\n",
       "    </tr>\n",
       "    <tr>\n",
       "      <th>75</th>\n",
       "      <td>Sim</td>\n",
       "      <td>Não</td>\n",
       "    </tr>\n",
       "  </tbody>\n",
       "</table>\n",
       "</div>"
      ],
      "text/plain": [
       "   Frequenta escola ou creche  \\\n",
       "5                         Sim   \n",
       "51                        Sim   \n",
       "64                        Sim   \n",
       "69                        Sim   \n",
       "75                        Sim   \n",
       "\n",
       "   Teve algum trabalho no período de referência de 365 dias  \n",
       "5                                                 Não        \n",
       "51                                                Não        \n",
       "64                                                Não        \n",
       "69                                                Não        \n",
       "75                                                Não        "
      ]
     },
     "execution_count": 25,
     "metadata": {},
     "output_type": "execute_result"
    }
   ],
   "source": [
    "dados.V0701=dados.V0701.astype('category')\n",
    "dados.V0602=dados.V0602.astype('category')\n",
    "\n",
    "dados.V0701.cat.categories=(['Sim', 'Não'])\n",
    "dados.V0602.cat.categories=(['Sim', 'Não'])\n",
    "df.head()"
   ]
  },
  {
   "cell_type": "code",
   "execution_count": 12,
   "metadata": {
    "collapsed": true
   },
   "outputs": [],
   "source": [
    "#Frequenta escola ou creche V0602\n",
    "#Curso que frequenta V6003\n",
    "#Anteriormente frequentou escola ou creche V0606\n",
    "#Curso mais elevado que frequentou anteriormente V6007\n",
    "#Concluiu este curso que frequentou anteriormente V0611\n",
    "\n",
    "# Das criancasd\n",
    "#Teve algum trabalho no período de referência de 365 dias V0701\n",
    "\n",
    "#Exerceu tarefas em cultivo, pesca ou criação de animais, V0702\n",
    "#destinados à própria alimentação das pessoas moradoras no domicílio, no período de referência de 365 dias V0702\n",
    "\n",
    "#Exerceu tarefas em construção de prédio, cômodo, poço ou outras obras de construção,\n",
    "#destinadas ao próprio uso das pessoas moradoras no domicílio, no período de referência de 365 dias V0703\n",
    "\n",
    "#Trabalhou na semana de referência V0704\n",
    "#Esteve afastado temporariamente do trabalho remunerado que tinha na semana de referência V0705\n"
   ]
  },
  {
   "cell_type": "code",
   "execution_count": 16,
   "metadata": {},
   "outputs": [
    {
     "data": {
      "text/plain": [
       "()"
      ]
     },
     "execution_count": 16,
     "metadata": {},
     "output_type": "execute_result"
    },
    {
     "data": {
      "image/png": "[encoded data removed]",
      "text/plain": [
       "<matplotlib.figure.Figure at 0x115745ae240>"
      ]
     },
     "metadata": {},
     "output_type": "display_data"
    }
   ],
   "source": [
    "ph=pd.crosstab(dados.V0701,dados.V0602,normalize='index')\n",
    "ph.plot(kind='bar',stacked='True',legend=['Sim','Não'],title='Estudo X Trabalho',figsize=(7,7))\n",
    "plt.ylabel('trabalho')\n",
    "plt.xlabel('estudo')\n",
    "\n",
    "()"
   ]
  },
  {
   "cell_type": "markdown",
   "metadata": {},
   "source": [
    "___\n",
    "## Análise e Resultados"
   ]
  },
  {
   "cell_type": "code",
   "execution_count": null,
   "metadata": {},
   "outputs": [],
   "source": []
  },
  {
   "cell_type": "code",
   "execution_count": null,
   "metadata": {
    "collapsed": true
   },
   "outputs": [],
   "source": []
  },
  {
   "cell_type": "markdown",
   "metadata": {},
   "source": [
    "___\n",
    "## Conclusão "
   ]
  },
  {
   "cell_type": "markdown",
   "metadata": {
    "collapsed": true
   },
   "source": [
    "Descreva aqui suas conclusões!"
   ]
  },
  {
   "cell_type": "code",
   "execution_count": null,
   "metadata": {
    "collapsed": true
   },
   "outputs": [],
   "source": []
  }
 ],
 "metadata": {
  "anaconda-cloud": {},
  "kernelspec": {
   "display_name": "Python 3",
   "language": "python",
   "name": "python3"
  },
  "language_info": {
   "codemirror_mode": {
    "name": "ipython",
    "version": 3
   },
   "file_extension": ".py",
   "mimetype": "text/x-python",
   "name": "python",
   "nbconvert_exporter": "python",
   "pygments_lexer": "ipython3",
   "version": "3.6.1"
  }
 },
 "nbformat": 4,
 "nbformat_minor": 1
}
